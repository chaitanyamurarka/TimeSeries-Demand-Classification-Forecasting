{
 "cells": [
  {
   "cell_type": "code",
   "execution_count": 4,
   "metadata": {},
   "outputs": [],
   "source": [
    "from scipy.stats import mode\n",
    "import pandas as pd\n",
    "import statistics\n",
    "import datetime\n",
    "from statistics import mean\n",
    "import warnings \n",
    "warnings.filterwarnings(\"ignore\")"
   ]
  },
  {
   "cell_type": "code",
   "execution_count": 5,
   "metadata": {},
   "outputs": [],
   "source": [
    "sales = pd.ExcelFile(r'C:\\Users\\ADMIN\\Downloads\\Codes\\TimeSeries Demand Classification & Forecasting\\online_retail_II.xlsx')\n",
    "sales1 = sales.parse('Year 2009-2010')\n",
    "sales2 = sales.parse('Year 2010-2011')\n",
    "sales1 = sales1.append(sales2)\n",
    "sales = sales1\n",
    "del sales1\n",
    "del sales2"
   ]
  },
  {
   "cell_type": "code",
   "execution_count": 6,
   "metadata": {},
   "outputs": [],
   "source": [
    "sales.replace(',','', regex=True, inplace=True)\n",
    "sales['Quantity'] = pd.to_numeric(sales['Quantity'])\n",
    "sales = sales.loc[sales['Quantity']>0]\n",
    "sales['InvoiceDate'] = pd.to_datetime(sales['InvoiceDate'])\n",
    "sales['InvoiceDate'] = sales['InvoiceDate'].dt.date"
   ]
  },
  {
   "cell_type": "code",
   "execution_count": 7,
   "metadata": {},
   "outputs": [],
   "source": [
    "sales = sales.groupby(['StockCode','Description','InvoiceDate']).agg({\n",
    "                    'Quantity':sum\n",
    "}).reset_index()"
   ]
  },
  {
   "cell_type": "code",
   "execution_count": 8,
   "metadata": {},
   "outputs": [],
   "source": [
    "new_columns = ['InvoiceDate','StockCode','Description','Quantity']\n",
    "sales = sales[new_columns]"
   ]
  },
  {
   "cell_type": "code",
   "execution_count": 9,
   "metadata": {},
   "outputs": [],
   "source": [
    "imputed_sales = pd.DataFrame()\n",
    "output = pd.DataFrame()\n",
    "def data_processing(df):\n",
    "    df['InvoiceDate'] = pd.to_datetime(df['InvoiceDate'])\n",
    "    min_date = df['InvoiceDate'].min()\n",
    "    max_date = df['InvoiceDate'].max()\n",
    "    all_dates = pd.to_datetime(pd.date_range(start=min_date, end=max_date))\n",
    "    date_range_df = pd.DataFrame({'InvoiceDate':all_dates})\n",
    "    df_merge = date_range_df.merge(df, on='InvoiceDate', how='left')\n",
    "    material_id = df_merge['StockCode'][0]\n",
    "    df_merge['StockCode'].fillna(material_id, inplace=True)\n",
    "    df_merge['Quantity'] = df_merge['Quantity'].fillna(0)\n",
    "    df_merge = df_merge.set_index('InvoiceDate').resample(\"M\").agg({'Quantity': 'sum', 'StockCode': 'last'}).reset_index()\n",
    "    global imputed_sales\n",
    "    imputed_sales = imputed_sales.append(df_merge,ignore_index=True)\n",
    "    adi = len(df_merge)/len(df_merge.loc[df_merge['Quantity']>0])\n",
    "    if(len(df_merge)>2):\n",
    "        CV2 = (statistics.stdev(df_merge['Quantity']>0) / statistics.mean(df_merge['Quantity']>0))**2\n",
    "        if(adi < 1.32):\n",
    "            if(CV2 < 0.49):\n",
    "                classification = 'Smooth demand'\n",
    "            if(CV2 >= 0.49):\n",
    "                classification = 'Erratic demand'\n",
    "        elif(adi >= 1.32):\n",
    "            if(CV2 < 0.49):\n",
    "                classification = 'Intermittent demand'\n",
    "            if(CV2 >= 0.49):\n",
    "                classification = 'Lumpy demand'\n",
    "    else:\n",
    "        CV2 = 'NA'\n",
    "        classification = 'NA'\n",
    "    material_desc = mode(df['Description'])[0][0]\n",
    "    temp_dict = {'StockCode':material_id,'Description':material_desc,'ADI':adi,'CV2':CV2,'Class': classification }\n",
    "    global output\n",
    "    output = output.append(temp_dict,ignore_index=True)\n",
    "    pass"
   ]
  },
  {
   "cell_type": "code",
   "execution_count": 10,
   "metadata": {},
   "outputs": [
    {
     "data": {
      "text/html": [
       "<div>\n",
       "<style scoped>\n",
       "    .dataframe tbody tr th:only-of-type {\n",
       "        vertical-align: middle;\n",
       "    }\n",
       "\n",
       "    .dataframe tbody tr th {\n",
       "        vertical-align: top;\n",
       "    }\n",
       "\n",
       "    .dataframe thead th {\n",
       "        text-align: right;\n",
       "    }\n",
       "</style>\n",
       "<table border=\"1\" class=\"dataframe\">\n",
       "  <thead>\n",
       "    <tr style=\"text-align: right;\">\n",
       "      <th></th>\n",
       "    </tr>\n",
       "  </thead>\n",
       "  <tbody>\n",
       "  </tbody>\n",
       "</table>\n",
       "</div>"
      ],
      "text/plain": [
       "Empty DataFrame\n",
       "Columns: []\n",
       "Index: []"
      ]
     },
     "execution_count": 10,
     "metadata": {},
     "output_type": "execute_result"
    }
   ],
   "source": [
    "sales.groupby(['StockCode']).apply(data_processing)"
   ]
  },
  {
   "cell_type": "code",
   "execution_count": 11,
   "metadata": {},
   "outputs": [],
   "source": [
    "output.to_csv(r\"C:\\Users\\ADMIN\\Downloads\\Codes\\TimeSeries Demand Classification & Forecasting\\Demand Classification\\Monthly Frequency\\Forecast Classification Daily.csv\")\n",
    "imputed_sales.to_csv(r\"C:\\Users\\ADMIN\\Downloads\\Codes\\TimeSeries Demand Classification & Forecasting\\Demand Classification\\Monthly Frequency\\Imputed Sales Daily.csv\")"
   ]
  }
 ],
 "metadata": {
  "kernelspec": {
   "display_name": "Python 3",
   "language": "python",
   "name": "python3"
  },
  "language_info": {
   "codemirror_mode": {
    "name": "ipython",
    "version": 3
   },
   "file_extension": ".py",
   "mimetype": "text/x-python",
   "name": "python",
   "nbconvert_exporter": "python",
   "pygments_lexer": "ipython3",
   "version": "3.11.0"
  },
  "orig_nbformat": 4,
  "vscode": {
   "interpreter": {
    "hash": "5f80c455da1dc101d9f66a16923589bd6dbb3429340af280f1efed2f72025e97"
   }
  }
 },
 "nbformat": 4,
 "nbformat_minor": 2
}
