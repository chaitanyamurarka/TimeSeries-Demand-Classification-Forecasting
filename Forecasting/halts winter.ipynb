{
 "cells": [
  {
   "cell_type": "code",
   "execution_count": 40,
   "metadata": {},
   "outputs": [],
   "source": [
    "import pandas as pd\n",
    "import numpy as np\n",
    "import matplotlib.pyplot as plt\n",
    "from statsmodels.tsa.api import ExponentialSmoothing\n",
    "import warnings \n",
    "warnings.filterwarnings(\"ignore\")"
   ]
  },
  {
   "cell_type": "code",
   "execution_count": 41,
   "metadata": {},
   "outputs": [],
   "source": [
    "sales = pd.read_csv(r'C:\\Users\\ADMIN\\Downloads\\Codes\\TimeSeries Demand Classification & Forecasting\\Demand Classification\\Monthly Frequency\\Imputed Sales Monthly.csv')\n",
    "daily_classification_data = pd.read_csv(r'C:\\Users\\ADMIN\\Downloads\\Codes\\TimeSeries Demand Classification & Forecasting\\Demand Classification\\Daily Frequency\\Forecast Classification Daily.csv')\n",
    "weekly_classification_data = pd.read_csv(r'C:\\Users\\ADMIN\\Downloads\\Codes\\TimeSeries Demand Classification & Forecasting\\Demand Classification\\Weekly Frequency\\Forecast Classification Weekly.csv')\n",
    "monthly_classification_data = pd.read_csv(r'C:\\Users\\ADMIN\\Downloads\\Codes\\TimeSeries Demand Classification & Forecasting\\Demand Classification\\Monthly Frequency\\Forecast Classification Monthly.csv')                                        "
   ]
  },
  {
   "cell_type": "code",
   "execution_count": 42,
   "metadata": {},
   "outputs": [],
   "source": [
    "output = pd.DataFrame()\n",
    "def halts_winter(material_id):\n",
    "    global sales\n",
    "    data = sales.loc[sales['StockCode']==material_id]\n",
    "    if len(data)>=12:\n",
    "        data = data.drop(['Unnamed: 0','StockCode'], axis=1)\n",
    "        data = data.set_index('InvoiceDate')\n",
    "        # Create an ETS model\n",
    "        model = ExponentialSmoothing(data, trend='add', seasonal='add', seasonal_periods=4)\n",
    "        # Fit the model\n",
    "        fit = model.fit()\n",
    "        # Forecast for the testing set\n",
    "        forecast = fit.forecast(12)\n",
    "        forecast_df = pd.DataFrame(forecast, columns=['Forecast'])\n",
    "        forecast_df['StockCode']=material_id\n",
    "        forecast_df = forecast_df.reset_index()\n",
    "        forecast_df = forecast_df.rename(columns={'index': 'InvoiceDate'})\n",
    "        forecast_df['Forecast'] = round(forecast_df['Forecast'])\n",
    "        global output\n",
    "        output = output.append(forecast_df,ignore_index=True)"
   ]
  },
  {
   "cell_type": "code",
   "execution_count": 43,
   "metadata": {},
   "outputs": [],
   "source": [
    "daily_smooth_list = list(daily_classification_data[daily_classification_data['Class']=='Smooth demand']['StockCode'])\n",
    "weekly_smooth_list = list(weekly_classification_data[weekly_classification_data['Class']=='Smooth demand']['StockCode'])"
   ]
  },
  {
   "cell_type": "code",
   "execution_count": 44,
   "metadata": {},
   "outputs": [],
   "source": [
    "for i in daily_smooth_list:\n",
    "    halts_winter(i)"
   ]
  },
  {
   "cell_type": "code",
   "execution_count": 47,
   "metadata": {},
   "outputs": [],
   "source": [
    "output = output.pivot_table(index='InvoiceDate', columns='StockCode', values='Forecast')\n",
    "output.to_csv(r'C:\\Users\\ADMIN\\Downloads\\Codes\\TimeSeries Demand Classification & Forecasting\\Forecasting\\halts-winter.csv')"
   ]
  }
 ],
 "metadata": {
  "kernelspec": {
   "display_name": "Python 3",
   "language": "python",
   "name": "python3"
  },
  "language_info": {
   "codemirror_mode": {
    "name": "ipython",
    "version": 3
   },
   "file_extension": ".py",
   "mimetype": "text/x-python",
   "name": "python",
   "nbconvert_exporter": "python",
   "pygments_lexer": "ipython3",
   "version": "3.11.0"
  },
  "orig_nbformat": 4
 },
 "nbformat": 4,
 "nbformat_minor": 2
}
