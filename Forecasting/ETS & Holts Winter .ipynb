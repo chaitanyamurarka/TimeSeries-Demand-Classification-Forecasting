{
 "cells": [
  {
   "cell_type": "code",
   "execution_count": 1,
   "metadata": {},
   "outputs": [],
   "source": [
    "import pandas as pd\n",
    "import numpy as np\n",
    "import matplotlib.pyplot as plt\n",
    "from statsmodels.tsa.api import ExponentialSmoothing"
   ]
  },
  {
   "cell_type": "code",
   "execution_count": 2,
   "metadata": {},
   "outputs": [],
   "source": [
    "sales = pd.read_excel(r'C:\\Users\\ADMIN\\Downloads\\Codes\\TimeSeries Demand Classification & Forecasting\\online_retail_II.xlsx')\n",
    "daily_classification_data = pd.read_csv(r'C:\\Users\\ADMIN\\Downloads\\Codes\\TimeSeries Demand Classification & Forecasting\\Demand Classification\\Daily Frequency\\Forecast Classification Daily.csv')\n",
    "weekly_classification_data = pd.read_csv(r'C:\\Users\\ADMIN\\Downloads\\Codes\\TimeSeries Demand Classification & Forecasting\\Demand Classification\\Weekly Frequency\\Forecast Classification Weekly.csv')\n",
    "monthly_classification_data = pd.read_csv(r'C:\\Users\\ADMIN\\Downloads\\Codes\\TimeSeries Demand Classification & Forecasting\\Demand Classification\\Monthly Frequency\\Forecast Classification Monthly.csv')                                        "
   ]
  },
  {
   "cell_type": "code",
   "execution_count": 33,
   "metadata": {},
   "outputs": [],
   "source": [
    "def ets_forecast(material_id):\n",
    "    print(material_id)\n",
    "    global sales\n",
    "    data = sales[sales['StockCode']==material_id]\n",
    "    data = data.drop(['Invoice','StockCode','Description','Price','Customer ID','Country'], axis=1)\n",
    "    data = data.set_index('InvoiceDate')\n",
    "    # Create an ETS model\n",
    "    model = ExponentialSmoothing(data, trend='add', seasonal='add', seasonal_periods=4)\n",
    "    # Fit the model\n",
    "    fit = model.fit()\n",
    "    # Forecast for the testing set\n",
    "    forecast = fit.forecast(12)"
   ]
  },
  {
   "cell_type": "code",
   "execution_count": 31,
   "metadata": {},
   "outputs": [],
   "source": [
    "daily_smooth_list = list(daily_classification_data[daily_classification_data['Class']=='Smooth demand']['StockCode'])\n",
    "weekly_smooth_list = list(weekly_classification_data[weekly_classification_data['Class']=='Smooth demand']['StockCode'])"
   ]
  },
  {
   "cell_type": "code",
   "execution_count": 34,
   "metadata": {},
   "outputs": [
    {
     "name": "stdout",
     "output_type": "stream",
     "text": [
      "20724\n"
     ]
    },
    {
     "name": "stderr",
     "output_type": "stream",
     "text": [
      "c:\\Users\\ADMIN\\AppData\\Local\\Programs\\Python\\Python311\\Lib\\site-packages\\statsmodels\\tsa\\base\\tsa_model.py:471: ValueWarning: A date index has been provided, but it has no associated frequency information and so will be ignored when e.g. forecasting.\n",
      "  self._init_dates(dates, freq)\n"
     ]
    },
    {
     "ename": "ValueError",
     "evalue": "Cannot compute initial seasonals using heuristic method with less than two full seasonal cycles in the data.",
     "output_type": "error",
     "traceback": [
      "\u001b[1;31m---------------------------------------------------------------------------\u001b[0m",
      "\u001b[1;31mValueError\u001b[0m                                Traceback (most recent call last)",
      "\u001b[1;32mc:\\Users\\ADMIN\\Downloads\\Codes\\TimeSeries Demand Classification & Forecasting\\Forecasting\\ETS & Holts Winter .ipynb Cell 5\u001b[0m in \u001b[0;36m2\n\u001b[0;32m      <a href='vscode-notebook-cell:/c%3A/Users/ADMIN/Downloads/Codes/TimeSeries%20Demand%20Classification%20%26%20Forecasting/Forecasting/ETS%20%26%20Holts%20Winter%20.ipynb#W3sZmlsZQ%3D%3D?line=0'>1</a>\u001b[0m \u001b[39mfor\u001b[39;00m i \u001b[39min\u001b[39;00m daily_smooth_list:\n\u001b[1;32m----> <a href='vscode-notebook-cell:/c%3A/Users/ADMIN/Downloads/Codes/TimeSeries%20Demand%20Classification%20%26%20Forecasting/Forecasting/ETS%20%26%20Holts%20Winter%20.ipynb#W3sZmlsZQ%3D%3D?line=1'>2</a>\u001b[0m     ets_forecast(i)\n",
      "\u001b[1;32mc:\\Users\\ADMIN\\Downloads\\Codes\\TimeSeries Demand Classification & Forecasting\\Forecasting\\ETS & Holts Winter .ipynb Cell 5\u001b[0m in \u001b[0;36m8\n\u001b[0;32m      <a href='vscode-notebook-cell:/c%3A/Users/ADMIN/Downloads/Codes/TimeSeries%20Demand%20Classification%20%26%20Forecasting/Forecasting/ETS%20%26%20Holts%20Winter%20.ipynb#W3sZmlsZQ%3D%3D?line=5'>6</a>\u001b[0m data \u001b[39m=\u001b[39m data\u001b[39m.\u001b[39mset_index(\u001b[39m'\u001b[39m\u001b[39mInvoiceDate\u001b[39m\u001b[39m'\u001b[39m)\n\u001b[0;32m      <a href='vscode-notebook-cell:/c%3A/Users/ADMIN/Downloads/Codes/TimeSeries%20Demand%20Classification%20%26%20Forecasting/Forecasting/ETS%20%26%20Holts%20Winter%20.ipynb#W3sZmlsZQ%3D%3D?line=6'>7</a>\u001b[0m \u001b[39m# Create an ETS model\u001b[39;00m\n\u001b[1;32m----> <a href='vscode-notebook-cell:/c%3A/Users/ADMIN/Downloads/Codes/TimeSeries%20Demand%20Classification%20%26%20Forecasting/Forecasting/ETS%20%26%20Holts%20Winter%20.ipynb#W3sZmlsZQ%3D%3D?line=7'>8</a>\u001b[0m model \u001b[39m=\u001b[39m ExponentialSmoothing(data, trend\u001b[39m=\u001b[39;49m\u001b[39m'\u001b[39;49m\u001b[39madd\u001b[39;49m\u001b[39m'\u001b[39;49m, seasonal\u001b[39m=\u001b[39;49m\u001b[39m'\u001b[39;49m\u001b[39madd\u001b[39;49m\u001b[39m'\u001b[39;49m, seasonal_periods\u001b[39m=\u001b[39;49m\u001b[39m4\u001b[39;49m)\n\u001b[0;32m      <a href='vscode-notebook-cell:/c%3A/Users/ADMIN/Downloads/Codes/TimeSeries%20Demand%20Classification%20%26%20Forecasting/Forecasting/ETS%20%26%20Holts%20Winter%20.ipynb#W3sZmlsZQ%3D%3D?line=8'>9</a>\u001b[0m \u001b[39m# Fit the model\u001b[39;00m\n\u001b[0;32m     <a href='vscode-notebook-cell:/c%3A/Users/ADMIN/Downloads/Codes/TimeSeries%20Demand%20Classification%20%26%20Forecasting/Forecasting/ETS%20%26%20Holts%20Winter%20.ipynb#W3sZmlsZQ%3D%3D?line=9'>10</a>\u001b[0m fit \u001b[39m=\u001b[39m model\u001b[39m.\u001b[39mfit()\n",
      "File \u001b[1;32mc:\\Users\\ADMIN\\AppData\\Local\\Programs\\Python\\Python311\\Lib\\site-packages\\pandas\\util\\_decorators.py:211\u001b[0m, in \u001b[0;36mdeprecate_kwarg.<locals>._deprecate_kwarg.<locals>.wrapper\u001b[1;34m(*args, **kwargs)\u001b[0m\n\u001b[0;32m    209\u001b[0m     \u001b[39melse\u001b[39;00m:\n\u001b[0;32m    210\u001b[0m         kwargs[new_arg_name] \u001b[39m=\u001b[39m new_arg_value\n\u001b[1;32m--> 211\u001b[0m \u001b[39mreturn\u001b[39;00m func(\u001b[39m*\u001b[39;49margs, \u001b[39m*\u001b[39;49m\u001b[39m*\u001b[39;49mkwargs)\n",
      "File \u001b[1;32mc:\\Users\\ADMIN\\AppData\\Local\\Programs\\Python\\Python311\\Lib\\site-packages\\statsmodels\\tsa\\holtwinters\\model.py:292\u001b[0m, in \u001b[0;36mExponentialSmoothing.__init__\u001b[1;34m(self, endog, trend, damped_trend, seasonal, seasonal_periods, initialization_method, initial_level, initial_trend, initial_seasonal, use_boxcox, bounds, dates, freq, missing)\u001b[0m\n\u001b[0;32m    290\u001b[0m \u001b[39mself\u001b[39m\u001b[39m.\u001b[39m_lambda \u001b[39m=\u001b[39m np\u001b[39m.\u001b[39mnan\n\u001b[0;32m    291\u001b[0m \u001b[39mself\u001b[39m\u001b[39m.\u001b[39m_y \u001b[39m=\u001b[39m \u001b[39mself\u001b[39m\u001b[39m.\u001b[39m_boxcox()\n\u001b[1;32m--> 292\u001b[0m \u001b[39mself\u001b[39;49m\u001b[39m.\u001b[39;49m_initialize()\n\u001b[0;32m    293\u001b[0m \u001b[39mself\u001b[39m\u001b[39m.\u001b[39m_fixed_parameters \u001b[39m=\u001b[39m {}\n",
      "File \u001b[1;32mc:\\Users\\ADMIN\\AppData\\Local\\Programs\\Python\\Python311\\Lib\\site-packages\\statsmodels\\tsa\\holtwinters\\model.py:430\u001b[0m, in \u001b[0;36mExponentialSmoothing._initialize\u001b[1;34m(self)\u001b[0m\n\u001b[0;32m    428\u001b[0m \u001b[39melif\u001b[39;00m \u001b[39mself\u001b[39m\u001b[39m.\u001b[39m_initialization_method \u001b[39m==\u001b[39m \u001b[39m\"\u001b[39m\u001b[39mestimated\u001b[39m\u001b[39m\"\u001b[39m:\n\u001b[0;32m    429\u001b[0m     \u001b[39mif\u001b[39;00m \u001b[39mself\u001b[39m\u001b[39m.\u001b[39mnobs \u001b[39m<\u001b[39m \u001b[39m10\u001b[39m \u001b[39m+\u001b[39m \u001b[39m2\u001b[39m \u001b[39m*\u001b[39m (\u001b[39mself\u001b[39m\u001b[39m.\u001b[39mseasonal_periods \u001b[39m/\u001b[39m\u001b[39m/\u001b[39m \u001b[39m2\u001b[39m):\n\u001b[1;32m--> 430\u001b[0m         \u001b[39mreturn\u001b[39;00m \u001b[39mself\u001b[39;49m\u001b[39m.\u001b[39;49m_initialize_simple()\n\u001b[0;32m    431\u001b[0m     \u001b[39melse\u001b[39;00m:\n\u001b[0;32m    432\u001b[0m         \u001b[39mreturn\u001b[39;00m \u001b[39mself\u001b[39m\u001b[39m.\u001b[39m_initialize_heuristic()\n",
      "File \u001b[1;32mc:\\Users\\ADMIN\\AppData\\Local\\Programs\\Python\\Python311\\Lib\\site-packages\\statsmodels\\tsa\\holtwinters\\model.py:437\u001b[0m, in \u001b[0;36mExponentialSmoothing._initialize_simple\u001b[1;34m(self)\u001b[0m\n\u001b[0;32m    435\u001b[0m trend \u001b[39m=\u001b[39m \u001b[39mself\u001b[39m\u001b[39m.\u001b[39mtrend \u001b[39mif\u001b[39;00m \u001b[39mself\u001b[39m\u001b[39m.\u001b[39mhas_trend \u001b[39melse\u001b[39;00m \u001b[39mFalse\u001b[39;00m\n\u001b[0;32m    436\u001b[0m seasonal \u001b[39m=\u001b[39m \u001b[39mself\u001b[39m\u001b[39m.\u001b[39mseasonal \u001b[39mif\u001b[39;00m \u001b[39mself\u001b[39m\u001b[39m.\u001b[39mhas_seasonal \u001b[39melse\u001b[39;00m \u001b[39mFalse\u001b[39;00m\n\u001b[1;32m--> 437\u001b[0m lvl, trend, seas \u001b[39m=\u001b[39m _initialization_simple(\n\u001b[0;32m    438\u001b[0m     \u001b[39mself\u001b[39;49m\u001b[39m.\u001b[39;49m_y, trend, seasonal, \u001b[39mself\u001b[39;49m\u001b[39m.\u001b[39;49mseasonal_periods\n\u001b[0;32m    439\u001b[0m )\n\u001b[0;32m    440\u001b[0m \u001b[39mself\u001b[39m\u001b[39m.\u001b[39m_initial_level \u001b[39m=\u001b[39m lvl\n\u001b[0;32m    441\u001b[0m \u001b[39mself\u001b[39m\u001b[39m.\u001b[39m_initial_trend \u001b[39m=\u001b[39m trend\n",
      "File \u001b[1;32mc:\\Users\\ADMIN\\AppData\\Local\\Programs\\Python\\Python311\\Lib\\site-packages\\statsmodels\\tsa\\exponential_smoothing\\initialization.py:26\u001b[0m, in \u001b[0;36m_initialization_simple\u001b[1;34m(endog, trend, seasonal, seasonal_periods)\u001b[0m\n\u001b[0;32m     23\u001b[0m \u001b[39m# Seasonal\u001b[39;00m\n\u001b[0;32m     24\u001b[0m \u001b[39melse\u001b[39;00m:\n\u001b[0;32m     25\u001b[0m     \u001b[39mif\u001b[39;00m nobs \u001b[39m<\u001b[39m \u001b[39m2\u001b[39m \u001b[39m*\u001b[39m seasonal_periods:\n\u001b[1;32m---> 26\u001b[0m         \u001b[39mraise\u001b[39;00m \u001b[39mValueError\u001b[39;00m(\u001b[39m'\u001b[39m\u001b[39mCannot compute initial seasonals using\u001b[39m\u001b[39m'\u001b[39m\n\u001b[0;32m     27\u001b[0m                          \u001b[39m'\u001b[39m\u001b[39m heuristic method with less than two full\u001b[39m\u001b[39m'\u001b[39m\n\u001b[0;32m     28\u001b[0m                          \u001b[39m'\u001b[39m\u001b[39m seasonal cycles in the data.\u001b[39m\u001b[39m'\u001b[39m)\n\u001b[0;32m     30\u001b[0m     initial_level \u001b[39m=\u001b[39m np\u001b[39m.\u001b[39mmean(endog[:seasonal_periods])\n\u001b[0;32m     31\u001b[0m     m \u001b[39m=\u001b[39m seasonal_periods\n",
      "\u001b[1;31mValueError\u001b[0m: Cannot compute initial seasonals using heuristic method with less than two full seasonal cycles in the data."
     ]
    }
   ],
   "source": [
    "for i in daily_smooth_list:\n",
    "    ets_forecast(i)"
   ]
  },
  {
   "cell_type": "code",
   "execution_count": null,
   "metadata": {},
   "outputs": [],
   "source": []
  }
 ],
 "metadata": {
  "kernelspec": {
   "display_name": "Python 3",
   "language": "python",
   "name": "python3"
  },
  "language_info": {
   "codemirror_mode": {
    "name": "ipython",
    "version": 3
   },
   "file_extension": ".py",
   "mimetype": "text/x-python",
   "name": "python",
   "nbconvert_exporter": "python",
   "pygments_lexer": "ipython3",
   "version": "3.11.0"
  },
  "orig_nbformat": 4
 },
 "nbformat": 4,
 "nbformat_minor": 2
}
